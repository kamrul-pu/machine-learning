{
 "cells": [
  {
   "cell_type": "code",
   "execution_count": 2,
   "id": "bded9eae-30a5-490f-8766-a641256c6876",
   "metadata": {},
   "outputs": [],
   "source": [
    "import numpy as np\n",
    "import matplotlib.pyplot as plt\n",
    "import seaborn as sns"
   ]
  },
  {
   "cell_type": "code",
   "execution_count": 4,
   "id": "4f24edf4-867f-4e27-91af-4a984cf784f6",
   "metadata": {},
   "outputs": [
    {
     "data": {
      "text/plain": [
       "20"
      ]
     },
     "execution_count": 4,
     "metadata": {},
     "output_type": "execute_result"
    }
   ],
   "source": [
    "# dot product of 2 vectors\n",
    "a = np.array([2,3])\n",
    "b = np.array([4,4])\n",
    "a_dot_b = np.dot(a,b)\n",
    "a_dot_b"
   ]
  },
  {
   "cell_type": "code",
   "execution_count": 7,
   "id": "8f409351-ca8d-47ea-b3fb-c06406fb4a86",
   "metadata": {},
   "outputs": [
    {
     "data": {
      "text/plain": [
       "4980"
      ]
     },
     "execution_count": 7,
     "metadata": {},
     "output_type": "execute_result"
    }
   ],
   "source": [
    "c = np.array([40,20,35])\n",
    "d = np.array([53,24,68])\n",
    "\n",
    "c_dot_d = np.dot(c,d)\n",
    "c_dot_d"
   ]
  },
  {
   "cell_type": "code",
   "execution_count": 8,
   "id": "5127b40f-a715-41d7-b963-4fb4c1d958c0",
   "metadata": {},
   "outputs": [
    {
     "data": {
      "text/plain": [
       "array(-4)"
      ]
     },
     "execution_count": 8,
     "metadata": {},
     "output_type": "execute_result"
    }
   ],
   "source": [
    "# cross product of two vectors\n",
    "a = np.array([2,3])\n",
    "b = np.array([4,4])\n",
    "\n",
    "a_cross_b = np.cross(a,b)\n",
    "a_cross_b"
   ]
  },
  {
   "cell_type": "code",
   "execution_count": 9,
   "id": "1ef23690-4228-4b9e-b11f-e58a2ac9faed",
   "metadata": {},
   "outputs": [
    {
     "data": {
      "text/plain": [
       "array([ 520, -865, -100])"
      ]
     },
     "execution_count": 9,
     "metadata": {},
     "output_type": "execute_result"
    }
   ],
   "source": [
    "c = np.array([40,20,35])\n",
    "d = np.array([53,24,68])\n",
    "\n",
    "c_dot_d = np.cross(c,d)\n",
    "c_dot_d"
   ]
  },
  {
   "cell_type": "code",
   "execution_count": 10,
   "id": "5c486183-c533-4d18-996c-23c401786122",
   "metadata": {},
   "outputs": [
    {
     "data": {
      "text/plain": [
       "array([-1.12,  0.84])"
      ]
     },
     "execution_count": 10,
     "metadata": {},
     "output_type": "execute_result"
    }
   ],
   "source": [
    "# projection of two vectors\n",
    "a = np.array([2,5])\n",
    "v = np.array([8,-6])\n",
    "# magnitude of v vector\n",
    "magnitude_of_v= np.sqrt(sum(v**2))\n",
    "\n",
    "projection_of_a_on_v = (np.dot(a,v)/magnitude_of_v**2) * v\n",
    "projection_of_a_on_v"
   ]
  },
  {
   "cell_type": "code",
   "execution_count": 11,
   "id": "704246b9-b149-48c0-9384-f3e86530a4c9",
   "metadata": {},
   "outputs": [
    {
     "data": {
      "text/plain": [
       "array([30.18242937, 54.99909352, 44.93828373])"
      ]
     },
     "execution_count": 11,
     "metadata": {},
     "output_type": "execute_result"
    }
   ],
   "source": [
    "a = np.array([23,45,62])\n",
    "v = np.array([45,82,67])\n",
    "\n",
    "# magnitude of v vector\n",
    "magnitude_of_v= np.sqrt(sum(v**2))\n",
    "projection_of_a_on_v = (np.dot(a,v)/magnitude_of_v**2) * v\n",
    "projection_of_a_on_v"
   ]
  }
 ],
 "metadata": {
  "kernelspec": {
   "display_name": "Python 3 (ipykernel)",
   "language": "python",
   "name": "python3"
  },
  "language_info": {
   "codemirror_mode": {
    "name": "ipython",
    "version": 3
   },
   "file_extension": ".py",
   "mimetype": "text/x-python",
   "name": "python",
   "nbconvert_exporter": "python",
   "pygments_lexer": "ipython3",
   "version": "3.12.1"
  }
 },
 "nbformat": 4,
 "nbformat_minor": 5
}
